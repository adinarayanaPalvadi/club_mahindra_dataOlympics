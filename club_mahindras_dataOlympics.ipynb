{
 "cells": [
  {
   "cell_type": "code",
   "execution_count": 1,
   "metadata": {},
   "outputs": [
    {
     "name": "stderr",
     "output_type": "stream",
     "text": [
      "C:\\Users\\palva\\Anaconda3.1\\lib\\site-packages\\h5py\\__init__.py:36: FutureWarning: Conversion of the second argument of issubdtype from `float` to `np.floating` is deprecated. In future, it will be treated as `np.float64 == np.dtype(float).type`.\n",
      "  from ._conv import register_converters as _register_converters\n",
      "Using TensorFlow backend.\n",
      "C:\\Users\\palva\\Anaconda3.1\\lib\\site-packages\\sklearn\\cross_validation.py:41: DeprecationWarning: This module was deprecated in version 0.18 in favor of the model_selection module into which all the refactored classes and functions are moved. Also note that the interface of the new CV iterators are different from that of this module. This module will be removed in 0.20.\n",
      "  \"This module will be removed in 0.20.\", DeprecationWarning)\n",
      "C:\\Users\\palva\\Anaconda3.1\\lib\\site-packages\\sklearn\\grid_search.py:42: DeprecationWarning: This module was deprecated in version 0.18 in favor of the model_selection module into which all the refactored classes and functions are moved. This module will be removed in 0.20.\n",
      "  DeprecationWarning)\n"
     ]
    }
   ],
   "source": [
    "import numpy as np\n",
    "import pandas as pd\n",
    "import matplotlib.pyplot as plt\n",
    "from fancyimpute import  KNN\n",
    "import datetime as dt\n",
    "from sklearn.ensemble import GradientBoostingRegressor, RandomForestRegressor\n",
    "from sklearn.grid_search import GridSearchCV\n",
    "from sklearn.model_selection import train_test_split\n",
    "from xgboost import XGBRegressor\n",
    "from sklearn.metrics import mean_squared_error\n",
    "from sklearn.linear_model import LinearRegression, SGDRegressor"
   ]
  },
  {
   "cell_type": "code",
   "execution_count": 2,
   "metadata": {},
   "outputs": [],
   "source": [
    "train = pd.read_csv(r'C:\\Users\\palva\\Downloads\\club_mahindra_analytics\\train.csv')\n",
    "test = pd.read_csv(r'C:\\Users\\palva\\Downloads\\club_mahindra_analytics\\test.csv')"
   ]
  },
  {
   "cell_type": "code",
   "execution_count": 3,
   "metadata": {},
   "outputs": [
    {
     "data": {
      "text/html": [
       "<div>\n",
       "<style scoped>\n",
       "    .dataframe tbody tr th:only-of-type {\n",
       "        vertical-align: middle;\n",
       "    }\n",
       "\n",
       "    .dataframe tbody tr th {\n",
       "        vertical-align: top;\n",
       "    }\n",
       "\n",
       "    .dataframe thead th {\n",
       "        text-align: right;\n",
       "    }\n",
       "</style>\n",
       "<table border=\"1\" class=\"dataframe\">\n",
       "  <thead>\n",
       "    <tr style=\"text-align: right;\">\n",
       "      <th></th>\n",
       "      <th>reservation_id</th>\n",
       "      <th>booking_date</th>\n",
       "      <th>checkin_date</th>\n",
       "      <th>checkout_date</th>\n",
       "      <th>channel_code</th>\n",
       "      <th>main_product_code</th>\n",
       "      <th>numberofadults</th>\n",
       "      <th>numberofchildren</th>\n",
       "      <th>persontravellingid</th>\n",
       "      <th>resort_region_code</th>\n",
       "      <th>...</th>\n",
       "      <th>state_code_residence</th>\n",
       "      <th>state_code_resort</th>\n",
       "      <th>total_pax</th>\n",
       "      <th>member_age_buckets</th>\n",
       "      <th>booking_type_code</th>\n",
       "      <th>memberid</th>\n",
       "      <th>cluster_code</th>\n",
       "      <th>reservationstatusid_code</th>\n",
       "      <th>resort_id</th>\n",
       "      <th>amount_spent_per_room_night_scaled</th>\n",
       "    </tr>\n",
       "  </thead>\n",
       "  <tbody>\n",
       "    <tr>\n",
       "      <th>0</th>\n",
       "      <td>07659f3758d8aee27f5a7e2887adeacb67021cb95ada1b...</td>\n",
       "      <td>05/04/18</td>\n",
       "      <td>05/04/18</td>\n",
       "      <td>06/04/18</td>\n",
       "      <td>3</td>\n",
       "      <td>1</td>\n",
       "      <td>2</td>\n",
       "      <td>0</td>\n",
       "      <td>46</td>\n",
       "      <td>3</td>\n",
       "      <td>...</td>\n",
       "      <td>7.0</td>\n",
       "      <td>3</td>\n",
       "      <td>3</td>\n",
       "      <td>F</td>\n",
       "      <td>1</td>\n",
       "      <td>3d1539e56495b6991f0a3ef5a61ca3d03ce4fff7380e9a...</td>\n",
       "      <td>F</td>\n",
       "      <td>C</td>\n",
       "      <td>4e07408562bedb8b60ce05c1decfe3ad16b72230967de0...</td>\n",
       "      <td>7.706428</td>\n",
       "    </tr>\n",
       "    <tr>\n",
       "      <th>1</th>\n",
       "      <td>03930f033646d073462b35d411616323597715ac4fc398...</td>\n",
       "      <td>23/01/15</td>\n",
       "      <td>11/04/15</td>\n",
       "      <td>16/04/15</td>\n",
       "      <td>1</td>\n",
       "      <td>1</td>\n",
       "      <td>2</td>\n",
       "      <td>0</td>\n",
       "      <td>46</td>\n",
       "      <td>3</td>\n",
       "      <td>...</td>\n",
       "      <td>7.0</td>\n",
       "      <td>5</td>\n",
       "      <td>2</td>\n",
       "      <td>F</td>\n",
       "      <td>1</td>\n",
       "      <td>3d1539e56495b6991f0a3ef5a61ca3d03ce4fff7380e9a...</td>\n",
       "      <td>F</td>\n",
       "      <td>A</td>\n",
       "      <td>39fa9ec190eee7b6f4dff1100d6343e10918d044c75eac...</td>\n",
       "      <td>6.662563</td>\n",
       "    </tr>\n",
       "    <tr>\n",
       "      <th>2</th>\n",
       "      <td>d145a32920e6587ad95bfe299d80c0affa268220535aaf...</td>\n",
       "      <td>28/01/15</td>\n",
       "      <td>01/02/15</td>\n",
       "      <td>05/02/15</td>\n",
       "      <td>1</td>\n",
       "      <td>1</td>\n",
       "      <td>2</td>\n",
       "      <td>0</td>\n",
       "      <td>47</td>\n",
       "      <td>1</td>\n",
       "      <td>...</td>\n",
       "      <td>7.0</td>\n",
       "      <td>1</td>\n",
       "      <td>2</td>\n",
       "      <td>F</td>\n",
       "      <td>1</td>\n",
       "      <td>3d1539e56495b6991f0a3ef5a61ca3d03ce4fff7380e9a...</td>\n",
       "      <td>E</td>\n",
       "      <td>A</td>\n",
       "      <td>535fa30d7e25dd8a49f1536779734ec8286108d115da50...</td>\n",
       "      <td>7.871602</td>\n",
       "    </tr>\n",
       "    <tr>\n",
       "      <th>3</th>\n",
       "      <td>cfd77f44811ed62f25a220b53324cdbafc662a4c9e5f04...</td>\n",
       "      <td>02/05/15</td>\n",
       "      <td>11/06/15</td>\n",
       "      <td>16/06/15</td>\n",
       "      <td>1</td>\n",
       "      <td>1</td>\n",
       "      <td>2</td>\n",
       "      <td>2</td>\n",
       "      <td>46</td>\n",
       "      <td>2</td>\n",
       "      <td>...</td>\n",
       "      <td>7.0</td>\n",
       "      <td>2</td>\n",
       "      <td>2</td>\n",
       "      <td>F</td>\n",
       "      <td>1</td>\n",
       "      <td>3d1539e56495b6991f0a3ef5a61ca3d03ce4fff7380e9a...</td>\n",
       "      <td>D</td>\n",
       "      <td>A</td>\n",
       "      <td>d4735e3a265e16eee03f59718b9b5d03019c07d8b6c51f...</td>\n",
       "      <td>5.344943</td>\n",
       "    </tr>\n",
       "    <tr>\n",
       "      <th>4</th>\n",
       "      <td>937cff9e4dcfc2459620153dfc8b9962ac22bea67dfb29...</td>\n",
       "      <td>02/09/15</td>\n",
       "      <td>14/12/15</td>\n",
       "      <td>19/12/15</td>\n",
       "      <td>1</td>\n",
       "      <td>1</td>\n",
       "      <td>2</td>\n",
       "      <td>0</td>\n",
       "      <td>46</td>\n",
       "      <td>2</td>\n",
       "      <td>...</td>\n",
       "      <td>7.0</td>\n",
       "      <td>2</td>\n",
       "      <td>2</td>\n",
       "      <td>F</td>\n",
       "      <td>1</td>\n",
       "      <td>3d1539e56495b6991f0a3ef5a61ca3d03ce4fff7380e9a...</td>\n",
       "      <td>D</td>\n",
       "      <td>A</td>\n",
       "      <td>d4735e3a265e16eee03f59718b9b5d03019c07d8b6c51f...</td>\n",
       "      <td>7.059346</td>\n",
       "    </tr>\n",
       "  </tbody>\n",
       "</table>\n",
       "<p>5 rows × 24 columns</p>\n",
       "</div>"
      ],
      "text/plain": [
       "                                      reservation_id booking_date  \\\n",
       "0  07659f3758d8aee27f5a7e2887adeacb67021cb95ada1b...     05/04/18   \n",
       "1  03930f033646d073462b35d411616323597715ac4fc398...     23/01/15   \n",
       "2  d145a32920e6587ad95bfe299d80c0affa268220535aaf...     28/01/15   \n",
       "3  cfd77f44811ed62f25a220b53324cdbafc662a4c9e5f04...     02/05/15   \n",
       "4  937cff9e4dcfc2459620153dfc8b9962ac22bea67dfb29...     02/09/15   \n",
       "\n",
       "  checkin_date checkout_date  channel_code  main_product_code  numberofadults  \\\n",
       "0     05/04/18      06/04/18             3                  1               2   \n",
       "1     11/04/15      16/04/15             1                  1               2   \n",
       "2     01/02/15      05/02/15             1                  1               2   \n",
       "3     11/06/15      16/06/15             1                  1               2   \n",
       "4     14/12/15      19/12/15             1                  1               2   \n",
       "\n",
       "   numberofchildren  persontravellingid  resort_region_code  \\\n",
       "0                 0                  46                   3   \n",
       "1                 0                  46                   3   \n",
       "2                 0                  47                   1   \n",
       "3                 2                  46                   2   \n",
       "4                 0                  46                   2   \n",
       "\n",
       "                 ...                  state_code_residence  state_code_resort  \\\n",
       "0                ...                                   7.0                  3   \n",
       "1                ...                                   7.0                  5   \n",
       "2                ...                                   7.0                  1   \n",
       "3                ...                                   7.0                  2   \n",
       "4                ...                                   7.0                  2   \n",
       "\n",
       "   total_pax  member_age_buckets  booking_type_code  \\\n",
       "0          3                   F                  1   \n",
       "1          2                   F                  1   \n",
       "2          2                   F                  1   \n",
       "3          2                   F                  1   \n",
       "4          2                   F                  1   \n",
       "\n",
       "                                            memberid  cluster_code  \\\n",
       "0  3d1539e56495b6991f0a3ef5a61ca3d03ce4fff7380e9a...             F   \n",
       "1  3d1539e56495b6991f0a3ef5a61ca3d03ce4fff7380e9a...             F   \n",
       "2  3d1539e56495b6991f0a3ef5a61ca3d03ce4fff7380e9a...             E   \n",
       "3  3d1539e56495b6991f0a3ef5a61ca3d03ce4fff7380e9a...             D   \n",
       "4  3d1539e56495b6991f0a3ef5a61ca3d03ce4fff7380e9a...             D   \n",
       "\n",
       "  reservationstatusid_code                                          resort_id  \\\n",
       "0                        C  4e07408562bedb8b60ce05c1decfe3ad16b72230967de0...   \n",
       "1                        A  39fa9ec190eee7b6f4dff1100d6343e10918d044c75eac...   \n",
       "2                        A  535fa30d7e25dd8a49f1536779734ec8286108d115da50...   \n",
       "3                        A  d4735e3a265e16eee03f59718b9b5d03019c07d8b6c51f...   \n",
       "4                        A  d4735e3a265e16eee03f59718b9b5d03019c07d8b6c51f...   \n",
       "\n",
       "  amount_spent_per_room_night_scaled  \n",
       "0                           7.706428  \n",
       "1                           6.662563  \n",
       "2                           7.871602  \n",
       "3                           5.344943  \n",
       "4                           7.059346  \n",
       "\n",
       "[5 rows x 24 columns]"
      ]
     },
     "execution_count": 3,
     "metadata": {},
     "output_type": "execute_result"
    }
   ],
   "source": [
    "train.head()"
   ]
  },
  {
   "cell_type": "code",
   "execution_count": 4,
   "metadata": {},
   "outputs": [
    {
     "data": {
      "text/html": [
       "<div>\n",
       "<style scoped>\n",
       "    .dataframe tbody tr th:only-of-type {\n",
       "        vertical-align: middle;\n",
       "    }\n",
       "\n",
       "    .dataframe tbody tr th {\n",
       "        vertical-align: top;\n",
       "    }\n",
       "\n",
       "    .dataframe thead th {\n",
       "        text-align: right;\n",
       "    }\n",
       "</style>\n",
       "<table border=\"1\" class=\"dataframe\">\n",
       "  <thead>\n",
       "    <tr style=\"text-align: right;\">\n",
       "      <th></th>\n",
       "      <th>reservation_id</th>\n",
       "      <th>booking_date</th>\n",
       "      <th>checkin_date</th>\n",
       "      <th>checkout_date</th>\n",
       "      <th>channel_code</th>\n",
       "      <th>main_product_code</th>\n",
       "      <th>numberofadults</th>\n",
       "      <th>numberofchildren</th>\n",
       "      <th>persontravellingid</th>\n",
       "      <th>resort_region_code</th>\n",
       "      <th>...</th>\n",
       "      <th>season_holidayed_code</th>\n",
       "      <th>state_code_residence</th>\n",
       "      <th>state_code_resort</th>\n",
       "      <th>total_pax</th>\n",
       "      <th>member_age_buckets</th>\n",
       "      <th>booking_type_code</th>\n",
       "      <th>memberid</th>\n",
       "      <th>cluster_code</th>\n",
       "      <th>reservationstatusid_code</th>\n",
       "      <th>resort_id</th>\n",
       "    </tr>\n",
       "  </thead>\n",
       "  <tbody>\n",
       "    <tr>\n",
       "      <th>0</th>\n",
       "      <td>7dae1ce6bc8f69481328f2be5c4943077dad5598b5f66d...</td>\n",
       "      <td>05/04/18</td>\n",
       "      <td>05/04/18</td>\n",
       "      <td>06/04/18</td>\n",
       "      <td>3</td>\n",
       "      <td>2</td>\n",
       "      <td>2</td>\n",
       "      <td>0</td>\n",
       "      <td>45</td>\n",
       "      <td>3</td>\n",
       "      <td>...</td>\n",
       "      <td>2.0</td>\n",
       "      <td>2.0</td>\n",
       "      <td>3</td>\n",
       "      <td>3</td>\n",
       "      <td>H</td>\n",
       "      <td>1</td>\n",
       "      <td>2114944930dcc42ce5b9b50ae965cf8a9c04e46be63d84...</td>\n",
       "      <td>A</td>\n",
       "      <td>C</td>\n",
       "      <td>9f14025af0065b30e47e23ebb3b491d39ae8ed17d33739...</td>\n",
       "    </tr>\n",
       "    <tr>\n",
       "      <th>1</th>\n",
       "      <td>fe0d4e444e1818436c88f72f1cf800536c2f785e59baeb...</td>\n",
       "      <td>24/05/15</td>\n",
       "      <td>23/06/15</td>\n",
       "      <td>27/06/15</td>\n",
       "      <td>1</td>\n",
       "      <td>2</td>\n",
       "      <td>4</td>\n",
       "      <td>0</td>\n",
       "      <td>45</td>\n",
       "      <td>1</td>\n",
       "      <td>...</td>\n",
       "      <td>2.0</td>\n",
       "      <td>2.0</td>\n",
       "      <td>4</td>\n",
       "      <td>2</td>\n",
       "      <td>H</td>\n",
       "      <td>1</td>\n",
       "      <td>2114944930dcc42ce5b9b50ae965cf8a9c04e46be63d84...</td>\n",
       "      <td>F</td>\n",
       "      <td>A</td>\n",
       "      <td>e7f6c011776e8db7cd330b54174fd76f7d0216b612387a...</td>\n",
       "    </tr>\n",
       "    <tr>\n",
       "      <th>2</th>\n",
       "      <td>540bd4285ad8168e8388f84ee74a82cd4f97dc0a404d3e...</td>\n",
       "      <td>21/07/15</td>\n",
       "      <td>07/08/15</td>\n",
       "      <td>10/08/15</td>\n",
       "      <td>3</td>\n",
       "      <td>2</td>\n",
       "      <td>3</td>\n",
       "      <td>0</td>\n",
       "      <td>45</td>\n",
       "      <td>2</td>\n",
       "      <td>...</td>\n",
       "      <td>4.0</td>\n",
       "      <td>2.0</td>\n",
       "      <td>2</td>\n",
       "      <td>3</td>\n",
       "      <td>H</td>\n",
       "      <td>1</td>\n",
       "      <td>2114944930dcc42ce5b9b50ae965cf8a9c04e46be63d84...</td>\n",
       "      <td>D</td>\n",
       "      <td>A</td>\n",
       "      <td>d4735e3a265e16eee03f59718b9b5d03019c07d8b6c51f...</td>\n",
       "    </tr>\n",
       "    <tr>\n",
       "      <th>3</th>\n",
       "      <td>09593c907ae262e46f655b4db9e14f54a19eadcfdd2679...</td>\n",
       "      <td>31/07/15</td>\n",
       "      <td>22/10/15</td>\n",
       "      <td>25/10/15</td>\n",
       "      <td>1</td>\n",
       "      <td>2</td>\n",
       "      <td>3</td>\n",
       "      <td>0</td>\n",
       "      <td>45</td>\n",
       "      <td>1</td>\n",
       "      <td>...</td>\n",
       "      <td>2.0</td>\n",
       "      <td>2.0</td>\n",
       "      <td>6</td>\n",
       "      <td>3</td>\n",
       "      <td>H</td>\n",
       "      <td>1</td>\n",
       "      <td>2114944930dcc42ce5b9b50ae965cf8a9c04e46be63d84...</td>\n",
       "      <td>F</td>\n",
       "      <td>A</td>\n",
       "      <td>49d180ecf56132819571bf39d9b7b342522a2ac6d23c14...</td>\n",
       "    </tr>\n",
       "    <tr>\n",
       "      <th>4</th>\n",
       "      <td>f4c50caac68051faf37551d70bb17eebef2a20e2244cb1...</td>\n",
       "      <td>01/07/16</td>\n",
       "      <td>01/10/16</td>\n",
       "      <td>05/10/16</td>\n",
       "      <td>1</td>\n",
       "      <td>2</td>\n",
       "      <td>4</td>\n",
       "      <td>0</td>\n",
       "      <td>45</td>\n",
       "      <td>1</td>\n",
       "      <td>...</td>\n",
       "      <td>2.0</td>\n",
       "      <td>2.0</td>\n",
       "      <td>11</td>\n",
       "      <td>2</td>\n",
       "      <td>H</td>\n",
       "      <td>1</td>\n",
       "      <td>2114944930dcc42ce5b9b50ae965cf8a9c04e46be63d84...</td>\n",
       "      <td>F</td>\n",
       "      <td>A</td>\n",
       "      <td>e29c9c180c6279b0b02abd6a1801c7c04082cf486ec027...</td>\n",
       "    </tr>\n",
       "  </tbody>\n",
       "</table>\n",
       "<p>5 rows × 23 columns</p>\n",
       "</div>"
      ],
      "text/plain": [
       "                                      reservation_id booking_date  \\\n",
       "0  7dae1ce6bc8f69481328f2be5c4943077dad5598b5f66d...     05/04/18   \n",
       "1  fe0d4e444e1818436c88f72f1cf800536c2f785e59baeb...     24/05/15   \n",
       "2  540bd4285ad8168e8388f84ee74a82cd4f97dc0a404d3e...     21/07/15   \n",
       "3  09593c907ae262e46f655b4db9e14f54a19eadcfdd2679...     31/07/15   \n",
       "4  f4c50caac68051faf37551d70bb17eebef2a20e2244cb1...     01/07/16   \n",
       "\n",
       "  checkin_date checkout_date  channel_code  main_product_code  numberofadults  \\\n",
       "0     05/04/18      06/04/18             3                  2               2   \n",
       "1     23/06/15      27/06/15             1                  2               4   \n",
       "2     07/08/15      10/08/15             3                  2               3   \n",
       "3     22/10/15      25/10/15             1                  2               3   \n",
       "4     01/10/16      05/10/16             1                  2               4   \n",
       "\n",
       "   numberofchildren  persontravellingid  resort_region_code  \\\n",
       "0                 0                  45                   3   \n",
       "1                 0                  45                   1   \n",
       "2                 0                  45                   2   \n",
       "3                 0                  45                   1   \n",
       "4                 0                  45                   1   \n",
       "\n",
       "                         ...                          season_holidayed_code  \\\n",
       "0                        ...                                            2.0   \n",
       "1                        ...                                            2.0   \n",
       "2                        ...                                            4.0   \n",
       "3                        ...                                            2.0   \n",
       "4                        ...                                            2.0   \n",
       "\n",
       "   state_code_residence  state_code_resort  total_pax  member_age_buckets  \\\n",
       "0                   2.0                  3          3                   H   \n",
       "1                   2.0                  4          2                   H   \n",
       "2                   2.0                  2          3                   H   \n",
       "3                   2.0                  6          3                   H   \n",
       "4                   2.0                 11          2                   H   \n",
       "\n",
       "   booking_type_code                                           memberid  \\\n",
       "0                  1  2114944930dcc42ce5b9b50ae965cf8a9c04e46be63d84...   \n",
       "1                  1  2114944930dcc42ce5b9b50ae965cf8a9c04e46be63d84...   \n",
       "2                  1  2114944930dcc42ce5b9b50ae965cf8a9c04e46be63d84...   \n",
       "3                  1  2114944930dcc42ce5b9b50ae965cf8a9c04e46be63d84...   \n",
       "4                  1  2114944930dcc42ce5b9b50ae965cf8a9c04e46be63d84...   \n",
       "\n",
       "  cluster_code  reservationstatusid_code  \\\n",
       "0            A                         C   \n",
       "1            F                         A   \n",
       "2            D                         A   \n",
       "3            F                         A   \n",
       "4            F                         A   \n",
       "\n",
       "                                           resort_id  \n",
       "0  9f14025af0065b30e47e23ebb3b491d39ae8ed17d33739...  \n",
       "1  e7f6c011776e8db7cd330b54174fd76f7d0216b612387a...  \n",
       "2  d4735e3a265e16eee03f59718b9b5d03019c07d8b6c51f...  \n",
       "3  49d180ecf56132819571bf39d9b7b342522a2ac6d23c14...  \n",
       "4  e29c9c180c6279b0b02abd6a1801c7c04082cf486ec027...  \n",
       "\n",
       "[5 rows x 23 columns]"
      ]
     },
     "execution_count": 4,
     "metadata": {},
     "output_type": "execute_result"
    }
   ],
   "source": [
    "test.head()"
   ]
  },
  {
   "cell_type": "code",
   "execution_count": 5,
   "metadata": {},
   "outputs": [
    {
     "data": {
      "text/html": [
       "<div>\n",
       "<style scoped>\n",
       "    .dataframe tbody tr th:only-of-type {\n",
       "        vertical-align: middle;\n",
       "    }\n",
       "\n",
       "    .dataframe tbody tr th {\n",
       "        vertical-align: top;\n",
       "    }\n",
       "\n",
       "    .dataframe thead th {\n",
       "        text-align: right;\n",
       "    }\n",
       "</style>\n",
       "<table border=\"1\" class=\"dataframe\">\n",
       "  <thead>\n",
       "    <tr style=\"text-align: right;\">\n",
       "      <th></th>\n",
       "      <th>Variable</th>\n",
       "      <th>Description</th>\n",
       "    </tr>\n",
       "  </thead>\n",
       "  <tbody>\n",
       "    <tr>\n",
       "      <th>0</th>\n",
       "      <td>reservation_id</td>\n",
       "      <td>Reservation ID</td>\n",
       "    </tr>\n",
       "    <tr>\n",
       "      <th>1</th>\n",
       "      <td>booking_date</td>\n",
       "      <td>Date of booking</td>\n",
       "    </tr>\n",
       "    <tr>\n",
       "      <th>2</th>\n",
       "      <td>checkin_date</td>\n",
       "      <td>Checkin date recorded at the time of booking</td>\n",
       "    </tr>\n",
       "    <tr>\n",
       "      <th>3</th>\n",
       "      <td>checkout_date</td>\n",
       "      <td>Checkout date recorded at the time of booking</td>\n",
       "    </tr>\n",
       "    <tr>\n",
       "      <th>4</th>\n",
       "      <td>channel_code</td>\n",
       "      <td>Different channels of booking</td>\n",
       "    </tr>\n",
       "    <tr>\n",
       "      <th>5</th>\n",
       "      <td>main_product_code</td>\n",
       "      <td>Type of product a member has purchased</td>\n",
       "    </tr>\n",
       "    <tr>\n",
       "      <th>6</th>\n",
       "      <td>numberofadults</td>\n",
       "      <td>Number of adults travelling</td>\n",
       "    </tr>\n",
       "    <tr>\n",
       "      <th>7</th>\n",
       "      <td>numberofchildren</td>\n",
       "      <td>Number of children travelling</td>\n",
       "    </tr>\n",
       "    <tr>\n",
       "      <th>8</th>\n",
       "      <td>persontravellingid</td>\n",
       "      <td>Type of person travelling</td>\n",
       "    </tr>\n",
       "    <tr>\n",
       "      <th>9</th>\n",
       "      <td>resort_region_code</td>\n",
       "      <td>Resort Region</td>\n",
       "    </tr>\n",
       "    <tr>\n",
       "      <th>10</th>\n",
       "      <td>resort_type_code</td>\n",
       "      <td>Resort Type</td>\n",
       "    </tr>\n",
       "    <tr>\n",
       "      <th>11</th>\n",
       "      <td>room_type_booked_code</td>\n",
       "      <td>Room Type</td>\n",
       "    </tr>\n",
       "    <tr>\n",
       "      <th>12</th>\n",
       "      <td>roomnights</td>\n",
       "      <td>Number of roomnights booked</td>\n",
       "    </tr>\n",
       "    <tr>\n",
       "      <th>13</th>\n",
       "      <td>season_holidayed_code</td>\n",
       "      <td>Season Holidayed</td>\n",
       "    </tr>\n",
       "    <tr>\n",
       "      <th>14</th>\n",
       "      <td>state_code_residence</td>\n",
       "      <td>Residence State of Member</td>\n",
       "    </tr>\n",
       "    <tr>\n",
       "      <th>15</th>\n",
       "      <td>state_code_resort</td>\n",
       "      <td>State in which resort is located</td>\n",
       "    </tr>\n",
       "    <tr>\n",
       "      <th>16</th>\n",
       "      <td>total_pax</td>\n",
       "      <td>Total persons travelling</td>\n",
       "    </tr>\n",
       "    <tr>\n",
       "      <th>17</th>\n",
       "      <td>member_age_buckets</td>\n",
       "      <td>Age bucket of the member</td>\n",
       "    </tr>\n",
       "    <tr>\n",
       "      <th>18</th>\n",
       "      <td>booking_type_code</td>\n",
       "      <td>Type of Booking</td>\n",
       "    </tr>\n",
       "    <tr>\n",
       "      <th>19</th>\n",
       "      <td>memberid</td>\n",
       "      <td>Unique ID of the member</td>\n",
       "    </tr>\n",
       "    <tr>\n",
       "      <th>20</th>\n",
       "      <td>cluster_code</td>\n",
       "      <td>Cluster Code of Resort</td>\n",
       "    </tr>\n",
       "    <tr>\n",
       "      <th>21</th>\n",
       "      <td>reservationstatusid_code</td>\n",
       "      <td>Reservation Status ID</td>\n",
       "    </tr>\n",
       "    <tr>\n",
       "      <th>22</th>\n",
       "      <td>resort_id</td>\n",
       "      <td>Unique Resort ID</td>\n",
       "    </tr>\n",
       "    <tr>\n",
       "      <th>23</th>\n",
       "      <td>amount_spent_per_room_night_scaled</td>\n",
       "      <td>(Target) Resort Spend Per Room Night</td>\n",
       "    </tr>\n",
       "  </tbody>\n",
       "</table>\n",
       "</div>"
      ],
      "text/plain": [
       "                              Variable  \\\n",
       "0                       reservation_id   \n",
       "1                         booking_date   \n",
       "2                         checkin_date   \n",
       "3                        checkout_date   \n",
       "4                         channel_code   \n",
       "5                    main_product_code   \n",
       "6                       numberofadults   \n",
       "7                     numberofchildren   \n",
       "8                   persontravellingid   \n",
       "9                   resort_region_code   \n",
       "10                    resort_type_code   \n",
       "11               room_type_booked_code   \n",
       "12                          roomnights   \n",
       "13               season_holidayed_code   \n",
       "14                state_code_residence   \n",
       "15                   state_code_resort   \n",
       "16                           total_pax   \n",
       "17                  member_age_buckets   \n",
       "18                   booking_type_code   \n",
       "19                            memberid   \n",
       "20                        cluster_code   \n",
       "21            reservationstatusid_code   \n",
       "22                           resort_id   \n",
       "23  amount_spent_per_room_night_scaled   \n",
       "\n",
       "                                      Description  \n",
       "0                                  Reservation ID  \n",
       "1                                 Date of booking  \n",
       "2    Checkin date recorded at the time of booking  \n",
       "3   Checkout date recorded at the time of booking  \n",
       "4                   Different channels of booking  \n",
       "5          Type of product a member has purchased  \n",
       "6                     Number of adults travelling  \n",
       "7                   Number of children travelling  \n",
       "8                       Type of person travelling  \n",
       "9                                   Resort Region  \n",
       "10                                    Resort Type  \n",
       "11                                      Room Type  \n",
       "12                    Number of roomnights booked  \n",
       "13                               Season Holidayed  \n",
       "14                      Residence State of Member  \n",
       "15               State in which resort is located  \n",
       "16                       Total persons travelling  \n",
       "17                       Age bucket of the member  \n",
       "18                                Type of Booking  \n",
       "19                        Unique ID of the member  \n",
       "20                         Cluster Code of Resort  \n",
       "21                          Reservation Status ID  \n",
       "22                               Unique Resort ID  \n",
       "23           (Target) Resort Spend Per Room Night  "
      ]
     },
     "execution_count": 5,
     "metadata": {},
     "output_type": "execute_result"
    }
   ],
   "source": [
    "variable = pd.read_excel(r'C:\\Users\\palva\\Downloads\\club_mahindra_analytics\\Data_Dictionary.xlsx')\n",
    "variable"
   ]
  },
  {
   "cell_type": "code",
   "execution_count": 6,
   "metadata": {},
   "outputs": [
    {
     "data": {
      "text/plain": [
       "reservation_id                           0\n",
       "booking_date                             0\n",
       "checkin_date                             0\n",
       "checkout_date                            0\n",
       "channel_code                             0\n",
       "main_product_code                        0\n",
       "numberofadults                           0\n",
       "numberofchildren                         0\n",
       "persontravellingid                       0\n",
       "resort_region_code                       0\n",
       "resort_type_code                         0\n",
       "room_type_booked_code                    0\n",
       "roomnights                               0\n",
       "season_holidayed_code                  114\n",
       "state_code_residence                  4764\n",
       "state_code_resort                        0\n",
       "total_pax                                0\n",
       "member_age_buckets                       0\n",
       "booking_type_code                        0\n",
       "memberid                                 0\n",
       "cluster_code                             0\n",
       "reservationstatusid_code                 0\n",
       "resort_id                                0\n",
       "amount_spent_per_room_night_scaled       0\n",
       "dtype: int64"
      ]
     },
     "execution_count": 6,
     "metadata": {},
     "output_type": "execute_result"
    }
   ],
   "source": [
    "train.isnull().sum()"
   ]
  },
  {
   "cell_type": "code",
   "execution_count": 7,
   "metadata": {},
   "outputs": [
    {
     "data": {
      "text/plain": [
       "reservation_id                 0\n",
       "booking_date                   0\n",
       "checkin_date                   0\n",
       "checkout_date                  0\n",
       "channel_code                   0\n",
       "main_product_code              0\n",
       "numberofadults                 0\n",
       "numberofchildren               0\n",
       "persontravellingid             0\n",
       "resort_region_code             0\n",
       "resort_type_code               0\n",
       "room_type_booked_code          0\n",
       "roomnights                     0\n",
       "season_holidayed_code         35\n",
       "state_code_residence        2260\n",
       "state_code_resort              0\n",
       "total_pax                      0\n",
       "member_age_buckets             0\n",
       "booking_type_code              0\n",
       "memberid                       0\n",
       "cluster_code                   0\n",
       "reservationstatusid_code       0\n",
       "resort_id                      0\n",
       "dtype: int64"
      ]
     },
     "execution_count": 7,
     "metadata": {},
     "output_type": "execute_result"
    }
   ],
   "source": [
    "test.isnull().sum()"
   ]
  },
  {
   "cell_type": "code",
   "execution_count": 8,
   "metadata": {},
   "outputs": [],
   "source": [
    "train['state_code_residence'] = train['state_code_residence'].fillna(train['state_code_residence'].mode()[0])\n",
    "test['state_code_residence'] = test['state_code_residence'].fillna(test['state_code_residence'].mode()[0])"
   ]
  },
  {
   "cell_type": "code",
   "execution_count": 9,
   "metadata": {},
   "outputs": [],
   "source": [
    "train['season_holidayed_code'] = train['season_holidayed_code'].fillna(train['season_holidayed_code'].mode()[0])\n",
    "test['season_holidayed_code'] = test['season_holidayed_code'].fillna(test['season_holidayed_code'].mode()[0])"
   ]
  },
  {
   "cell_type": "code",
   "execution_count": 10,
   "metadata": {},
   "outputs": [],
   "source": [
    "#train['total_pax'] = train['numberofadults']+train['numberofchildren']\n",
    "#test['total_pax'] = test['numberofadults']+test['numberofchildren']"
   ]
  },
  {
   "cell_type": "code",
   "execution_count": 11,
   "metadata": {},
   "outputs": [],
   "source": [
    "train['booking_date'] = pd.to_datetime(train['booking_date'])\n",
    "train['booking_month'] = train['booking_date'].dt.month\n",
    "train['booking_year'] = train['booking_date'].dt.year"
   ]
  },
  {
   "cell_type": "code",
   "execution_count": 12,
   "metadata": {},
   "outputs": [],
   "source": [
    "test['booking_date'] = pd.to_datetime(test['booking_date'])\n",
    "test['booking_month'] = test['booking_date'].dt.month\n",
    "test['booking_year'] = test['booking_date'].dt.year"
   ]
  },
  {
   "cell_type": "code",
   "execution_count": 13,
   "metadata": {},
   "outputs": [],
   "source": [
    "train['checkin_date'] = pd.to_datetime(train['checkin_date'])\n",
    "train['checkin_weekname'] = train['checkin_date'].dt.weekday_name"
   ]
  },
  {
   "cell_type": "code",
   "execution_count": 14,
   "metadata": {},
   "outputs": [],
   "source": [
    "test['checkin_date'] = pd.to_datetime(test['checkin_date'])\n",
    "test['checkin_weekname'] = test['checkin_date'].dt.weekday_name"
   ]
  },
  {
   "cell_type": "code",
   "execution_count": 15,
   "metadata": {},
   "outputs": [],
   "source": [
    "train['checkout_date'] = pd.to_datetime(train['checkout_date'])\n",
    "train['checkout_weekname'] = train['checkout_date'].dt.weekday_name"
   ]
  },
  {
   "cell_type": "code",
   "execution_count": 16,
   "metadata": {},
   "outputs": [],
   "source": [
    "test['checkout_date'] = pd.to_datetime(test['checkout_date'])\n",
    "test['checkout_weekname'] = test['checkout_date'].dt.weekday_name"
   ]
  },
  {
   "cell_type": "code",
   "execution_count": 17,
   "metadata": {},
   "outputs": [],
   "source": [
    "train_feature = train.copy()\n",
    "test_feature = test.copy()"
   ]
  },
  {
   "cell_type": "markdown",
   "metadata": {},
   "source": [
    "## Explorative Data analysis"
   ]
  },
  {
   "cell_type": "code",
   "execution_count": 18,
   "metadata": {},
   "outputs": [
    {
     "data": {
      "text/plain": [
       "<matplotlib.axes._subplots.AxesSubplot at 0x1da3c16d668>"
      ]
     },
     "execution_count": 18,
     "metadata": {},
     "output_type": "execute_result"
    },
    {
     "data": {
      "image/png": "[encoded data removed]",
      "text/plain": [
       "<Figure size 432x576 with 2 Axes>"
      ]
     },
     "metadata": {},
     "output_type": "display_data"
    }
   ],
   "source": [
    "fig, axs = plt.subplots(2,1)\n",
    "train['checkin_weekname'].value_counts().plot.bar(figsize=(6,8),ax=axs[0],title= 'checkins during particular week name')\n",
    "train['checkout_weekname'].value_counts().plot.bar(figsize=(6,8),ax=axs[1],title= 'checkouts during particular week name')\n",
    "#checkins are more at friday and check outs are more at sunday"
   ]
  },
  {
   "cell_type": "code",
   "execution_count": 19,
   "metadata": {},
   "outputs": [
    {
     "data": {
      "text/plain": [
       "<matplotlib.axes._subplots.AxesSubplot at 0x1da3c286e48>"
      ]
     },
     "execution_count": 19,
     "metadata": {},
     "output_type": "execute_result"
    },
    {
     "data": {
      "image/png": "[encoded data removed]",
      "text/plain": [
       "<Figure size 432x288 with 1 Axes>"
      ]
     },
     "metadata": {},
     "output_type": "display_data"
    }
   ],
   "source": [
    "#in which state more room nights are booking\n",
    "train.groupby(['state_code_resort'])['roomnights'].sum().plot(title='State Vs room nights')\n",
    "#state 2 resort hase more room nights booked"
   ]
  },
  {
   "cell_type": "code",
   "execution_count": 20,
   "metadata": {},
   "outputs": [
    {
     "data": {
      "text/plain": [
       "<matplotlib.axes._subplots.AxesSubplot at 0x1da3c2fdcc0>"
      ]
     },
     "execution_count": 20,
     "metadata": {},
     "output_type": "execute_result"
    },
    {
     "data": {
      "image/png": "[encoded data removed]",
      "text/plain": [
       "<Figure size 1296x576 with 1 Axes>"
      ]
     },
     "metadata": {},
     "output_type": "display_data"
    }
   ],
   "source": [
    "pd.crosstab(train['persontravellingid'],train['resort_type_code']).plot.bar(figsize=(18,8), title='Person_Type Vs resort_type')"
   ]
  },
  {
   "cell_type": "code",
   "execution_count": 21,
   "metadata": {},
   "outputs": [
    {
     "data": {
      "text/plain": [
       "<matplotlib.axes._subplots.AxesSubplot at 0x1da3c2eb8d0>"
      ]
     },
     "execution_count": 21,
     "metadata": {},
     "output_type": "execute_result"
    },
    {
     "data": {
      "image/png": "[encoded data removed]",
      "text/plain": [
       "<Figure size 720x576 with 1 Axes>"
      ]
     },
     "metadata": {},
     "output_type": "display_data"
    }
   ],
   "source": [
    "train.groupby(['state_code_resort'])['total_pax'].sum().plot.barh(title='state resort Vs total persons travelling',figsize=(10,8))"
   ]
  },
  {
   "cell_type": "code",
   "execution_count": 22,
   "metadata": {},
   "outputs": [
    {
     "data": {
      "text/plain": [
       "1    299016\n",
       "2     42408\n",
       "Name: booking_type_code, dtype: int64"
      ]
     },
     "execution_count": 22,
     "metadata": {},
     "output_type": "execute_result"
    }
   ],
   "source": [
    "train['booking_type_code'].value_counts()"
   ]
  },
  {
   "cell_type": "code",
   "execution_count": 23,
   "metadata": {},
   "outputs": [
    {
     "data": {
      "text/html": [
       "<div>\n",
       "<style scoped>\n",
       "    .dataframe tbody tr th:only-of-type {\n",
       "        vertical-align: middle;\n",
       "    }\n",
       "\n",
       "    .dataframe tbody tr th {\n",
       "        vertical-align: top;\n",
       "    }\n",
       "\n",
       "    .dataframe thead th {\n",
       "        text-align: right;\n",
       "    }\n",
       "</style>\n",
       "<table border=\"1\" class=\"dataframe\">\n",
       "  <thead>\n",
       "    <tr style=\"text-align: right;\">\n",
       "      <th>booking_month</th>\n",
       "      <th>1</th>\n",
       "      <th>2</th>\n",
       "      <th>3</th>\n",
       "      <th>4</th>\n",
       "      <th>5</th>\n",
       "      <th>6</th>\n",
       "      <th>7</th>\n",
       "      <th>8</th>\n",
       "      <th>9</th>\n",
       "      <th>10</th>\n",
       "      <th>11</th>\n",
       "      <th>12</th>\n",
       "      <th>All</th>\n",
       "    </tr>\n",
       "    <tr>\n",
       "      <th>booking_year</th>\n",
       "      <th></th>\n",
       "      <th></th>\n",
       "      <th></th>\n",
       "      <th></th>\n",
       "      <th></th>\n",
       "      <th></th>\n",
       "      <th></th>\n",
       "      <th></th>\n",
       "      <th></th>\n",
       "      <th></th>\n",
       "      <th></th>\n",
       "      <th></th>\n",
       "      <th></th>\n",
       "    </tr>\n",
       "  </thead>\n",
       "  <tbody>\n",
       "    <tr>\n",
       "      <th>2014</th>\n",
       "      <td>1737</td>\n",
       "      <td>317</td>\n",
       "      <td>365</td>\n",
       "      <td>321</td>\n",
       "      <td>249</td>\n",
       "      <td>254</td>\n",
       "      <td>167</td>\n",
       "      <td>228</td>\n",
       "      <td>238</td>\n",
       "      <td>677</td>\n",
       "      <td>1385</td>\n",
       "      <td>2537</td>\n",
       "      <td>8475</td>\n",
       "    </tr>\n",
       "    <tr>\n",
       "      <th>2015</th>\n",
       "      <td>8626</td>\n",
       "      <td>9127</td>\n",
       "      <td>7872</td>\n",
       "      <td>6272</td>\n",
       "      <td>5870</td>\n",
       "      <td>5408</td>\n",
       "      <td>5903</td>\n",
       "      <td>5294</td>\n",
       "      <td>5265</td>\n",
       "      <td>5430</td>\n",
       "      <td>4695</td>\n",
       "      <td>5876</td>\n",
       "      <td>75638</td>\n",
       "    </tr>\n",
       "    <tr>\n",
       "      <th>2016</th>\n",
       "      <td>12797</td>\n",
       "      <td>9182</td>\n",
       "      <td>7832</td>\n",
       "      <td>6566</td>\n",
       "      <td>6597</td>\n",
       "      <td>5970</td>\n",
       "      <td>5909</td>\n",
       "      <td>6038</td>\n",
       "      <td>6016</td>\n",
       "      <td>5396</td>\n",
       "      <td>5459</td>\n",
       "      <td>5974</td>\n",
       "      <td>83736</td>\n",
       "    </tr>\n",
       "    <tr>\n",
       "      <th>2017</th>\n",
       "      <td>10863</td>\n",
       "      <td>11833</td>\n",
       "      <td>9408</td>\n",
       "      <td>7265</td>\n",
       "      <td>6450</td>\n",
       "      <td>6246</td>\n",
       "      <td>6262</td>\n",
       "      <td>5876</td>\n",
       "      <td>5865</td>\n",
       "      <td>5693</td>\n",
       "      <td>5741</td>\n",
       "      <td>5572</td>\n",
       "      <td>87074</td>\n",
       "    </tr>\n",
       "    <tr>\n",
       "      <th>2018</th>\n",
       "      <td>9766</td>\n",
       "      <td>9636</td>\n",
       "      <td>8671</td>\n",
       "      <td>6422</td>\n",
       "      <td>6558</td>\n",
       "      <td>5897</td>\n",
       "      <td>5545</td>\n",
       "      <td>5512</td>\n",
       "      <td>5714</td>\n",
       "      <td>5771</td>\n",
       "      <td>5541</td>\n",
       "      <td>5506</td>\n",
       "      <td>80539</td>\n",
       "    </tr>\n",
       "    <tr>\n",
       "      <th>2019</th>\n",
       "      <td>2593</td>\n",
       "      <td>831</td>\n",
       "      <td>328</td>\n",
       "      <td>267</td>\n",
       "      <td>251</td>\n",
       "      <td>180</td>\n",
       "      <td>311</td>\n",
       "      <td>301</td>\n",
       "      <td>265</td>\n",
       "      <td>219</td>\n",
       "      <td>201</td>\n",
       "      <td>215</td>\n",
       "      <td>5962</td>\n",
       "    </tr>\n",
       "    <tr>\n",
       "      <th>All</th>\n",
       "      <td>46382</td>\n",
       "      <td>40926</td>\n",
       "      <td>34476</td>\n",
       "      <td>27113</td>\n",
       "      <td>25975</td>\n",
       "      <td>23955</td>\n",
       "      <td>24097</td>\n",
       "      <td>23249</td>\n",
       "      <td>23363</td>\n",
       "      <td>23186</td>\n",
       "      <td>23022</td>\n",
       "      <td>25680</td>\n",
       "      <td>341424</td>\n",
       "    </tr>\n",
       "  </tbody>\n",
       "</table>\n",
       "</div>"
      ],
      "text/plain": [
       "booking_month      1      2      3      4      5      6      7      8      9  \\\n",
       "booking_year                                                                   \n",
       "2014            1737    317    365    321    249    254    167    228    238   \n",
       "2015            8626   9127   7872   6272   5870   5408   5903   5294   5265   \n",
       "2016           12797   9182   7832   6566   6597   5970   5909   6038   6016   \n",
       "2017           10863  11833   9408   7265   6450   6246   6262   5876   5865   \n",
       "2018            9766   9636   8671   6422   6558   5897   5545   5512   5714   \n",
       "2019            2593    831    328    267    251    180    311    301    265   \n",
       "All            46382  40926  34476  27113  25975  23955  24097  23249  23363   \n",
       "\n",
       "booking_month     10     11     12     All  \n",
       "booking_year                                \n",
       "2014             677   1385   2537    8475  \n",
       "2015            5430   4695   5876   75638  \n",
       "2016            5396   5459   5974   83736  \n",
       "2017            5693   5741   5572   87074  \n",
       "2018            5771   5541   5506   80539  \n",
       "2019             219    201    215    5962  \n",
       "All            23186  23022  25680  341424  "
      ]
     },
     "execution_count": 23,
     "metadata": {},
     "output_type": "execute_result"
    },
    {
     "data": {
      "image/png": "[encoded data removed]",
      "text/plain": [
       "<Figure size 1296x720 with 1 Axes>"
      ]
     },
     "metadata": {},
     "output_type": "display_data"
    }
   ],
   "source": [
    "pd.crosstab(train['booking_year'],train['booking_month'],margins=False).plot.bar(figsize=(18,10),title='Year vs month bookings')\n",
    "pd.crosstab(train['booking_year'],train['booking_month'],margins=True)"
   ]
  },
  {
   "cell_type": "code",
   "execution_count": 24,
   "metadata": {},
   "outputs": [
    {
     "data": {
      "text/plain": [
       "1    161225\n",
       "3    128042\n",
       "2     52157\n",
       "Name: channel_code, dtype: int64"
      ]
     },
     "execution_count": 24,
     "metadata": {},
     "output_type": "execute_result"
    }
   ],
   "source": [
    "train['channel_code'].value_counts()"
   ]
  },
  {
   "cell_type": "code",
   "execution_count": 25,
   "metadata": {},
   "outputs": [
    {
     "data": {
      "text/plain": [
       "<matplotlib.axes._subplots.AxesSubplot at 0x1da3c2a6710>"
      ]
     },
     "execution_count": 25,
     "metadata": {},
     "output_type": "execute_result"
    },
    {
     "data": {
      "image/png": "[encoded data removed]",
      "text/plain": [
       "<Figure size 864x504 with 1 Axes>"
      ]
     },
     "metadata": {},
     "output_type": "display_data"
    }
   ],
   "source": [
    "pd.crosstab(train['channel_code'],train['state_code_resort']).plot.bar(title='channelcode Vs state code resort',figsize=(12,7))"
   ]
  },
  {
   "cell_type": "code",
   "execution_count": 26,
   "metadata": {},
   "outputs": [
    {
     "data": {
      "text/plain": [
       "<matplotlib.patches.Circle at 0x1da3ce48208>"
      ]
     },
     "execution_count": 26,
     "metadata": {},
     "output_type": "execute_result"
    },
    {
     "data": {
      "image/png": "[encoded data removed]",
      "text/plain": [
       "<Figure size 432x432 with 1 Axes>"
      ]
     },
     "metadata": {},
     "output_type": "display_data"
    }
   ],
   "source": [
    "clu = train.groupby(['cluster_code'])['roomnights'].sum()\n",
    "clu.plot.pie(subplots=True,figsize=(6,6),autopct='%1.1f%%',title='Cluster vs roomnights')\n",
    "centre_circle = plt.Circle((0,0),0.70,fc='white')\n",
    "fig = plt.gcf()\n",
    "fig.gca().add_artist(centre_circle)"
   ]
  },
  {
   "cell_type": "code",
   "execution_count": 27,
   "metadata": {},
   "outputs": [
    {
     "data": {
      "text/plain": [
       "<matplotlib.axes._subplots.AxesSubplot at 0x1da3e1b8b70>"
      ]
     },
     "execution_count": 27,
     "metadata": {},
     "output_type": "execute_result"
    },
    {
     "data": {
      "image/png": "[encoded data removed]",
      "text/plain": [
       "<Figure size 432x288 with 1 Axes>"
      ]
     },
     "metadata": {},
     "output_type": "display_data"
    }
   ],
   "source": [
    "#rrom nights Vs agebuckets\n",
    "train.groupby(['member_age_buckets'])['roomnights'].sum().plot.bar(title='member age Vs sum of roomnights')"
   ]
  },
  {
   "cell_type": "code",
   "execution_count": 28,
   "metadata": {},
   "outputs": [
    {
     "data": {
      "text/plain": [
       "array([<matplotlib.axes._subplots.AxesSubplot object at 0x000001DA3E2340B8>],\n",
       "      dtype=object)"
      ]
     },
     "execution_count": 28,
     "metadata": {},
     "output_type": "execute_result"
    },
    {
     "data": {
      "image/png": "[encoded data removed]",
      "text/plain": [
       "<Figure size 432x432 with 1 Axes>"
      ]
     },
     "metadata": {},
     "output_type": "display_data"
    }
   ],
   "source": [
    "cluVsnight = train.groupby(['cluster_code'])['roomnights'].count()\n",
    "explode = (0.1,0.1,0.1,0.1,0.1,0.1)\n",
    "cluVsnight.plot.pie(subplots=True,figsize=(6,6),autopct='%1.1f%%',explode=explode)"
   ]
  },
  {
   "cell_type": "code",
   "execution_count": 29,
   "metadata": {},
   "outputs": [
    {
     "data": {
      "text/plain": [
       "3    137439\n",
       "2    113459\n",
       "4     83554\n",
       "1      5374\n",
       "5      1588\n",
       "6        10\n",
       "Name: room_type_booked_code, dtype: int64"
      ]
     },
     "execution_count": 29,
     "metadata": {},
     "output_type": "execute_result"
    }
   ],
   "source": [
    "train['room_type_booked_code'].value_counts()"
   ]
  },
  {
   "cell_type": "markdown",
   "metadata": {},
   "source": [
    "### data encoding"
   ]
  },
  {
   "cell_type": "code",
   "execution_count": 30,
   "metadata": {},
   "outputs": [],
   "source": [
    "from sklearn.preprocessing import LabelEncoder"
   ]
  },
  {
   "cell_type": "code",
   "execution_count": 31,
   "metadata": {},
   "outputs": [],
   "source": [
    "le = LabelEncoder()"
   ]
  },
  {
   "cell_type": "code",
   "execution_count": 32,
   "metadata": {},
   "outputs": [],
   "source": [
    "train_feature['resort_id'] = le.fit_transform(train_feature['resort_id'])\n",
    "train_feature['member_age_buckets'] = le.fit_transform(train_feature['member_age_buckets'])\n",
    "train_feature['reservationstatusid_code'] = le.fit_transform(train_feature['reservationstatusid_code'])\n",
    "train_feature['cluster_code'] = le.fit_transform(train_feature['cluster_code'])"
   ]
  },
  {
   "cell_type": "code",
   "execution_count": null,
   "metadata": {},
   "outputs": [],
   "source": []
  },
  {
   "cell_type": "markdown",
   "metadata": {},
   "source": [
    "## Applying the models"
   ]
  },
  {
   "cell_type": "code",
   "execution_count": 33,
   "metadata": {},
   "outputs": [
    {
     "data": {
      "text/plain": [
       "Index(['reservation_id', 'booking_date', 'checkin_date', 'checkout_date',\n",
       "       'channel_code', 'main_product_code', 'numberofadults',\n",
       "       'numberofchildren', 'persontravellingid', 'resort_region_code',\n",
       "       'resort_type_code', 'room_type_booked_code', 'roomnights',\n",
       "       'season_holidayed_code', 'state_code_residence', 'state_code_resort',\n",
       "       'total_pax', 'member_age_buckets', 'booking_type_code', 'memberid',\n",
       "       'cluster_code', 'reservationstatusid_code', 'resort_id',\n",
       "       'amount_spent_per_room_night_scaled', 'booking_month', 'booking_year',\n",
       "       'checkin_weekname', 'checkout_weekname'],\n",
       "      dtype='object')"
      ]
     },
     "execution_count": 33,
     "metadata": {},
     "output_type": "execute_result"
    }
   ],
   "source": [
    "train_feature.columns"
   ]
  },
  {
   "cell_type": "code",
   "execution_count": 34,
   "metadata": {},
   "outputs": [],
   "source": [
    "train1 = train_feature.drop(columns={'booking_month','booking_year','checkin_weekname','checkout_weekname',\n",
    "                    'booking_date','checkin_date','checkout_date','reservation_id','memberid'})\n",
    "test1 = test_feature.drop(columns={'booking_month','booking_year','checkin_weekname','checkout_weekname',\n",
    "                    'booking_date','checkin_date','checkout_date','reservation_id','memberid'})"
   ]
  },
  {
   "cell_type": "code",
   "execution_count": 35,
   "metadata": {},
   "outputs": [
    {
     "data": {
      "text/plain": [
       "((341424, 19), (146765, 18))"
      ]
     },
     "execution_count": 35,
     "metadata": {},
     "output_type": "execute_result"
    }
   ],
   "source": [
    "train1.shape, test1.shape"
   ]
  },
  {
   "cell_type": "code",
   "execution_count": 36,
   "metadata": {},
   "outputs": [],
   "source": [
    "X_Train = train1.iloc[:,train1.columns!='amount_spent_per_room_night_scaled'].values\n",
    "Y_train = train1['amount_spent_per_room_night_scaled']"
   ]
  },
  {
   "cell_type": "code",
   "execution_count": 37,
   "metadata": {},
   "outputs": [
    {
     "data": {
      "text/plain": [
       "((341424, 18), (341424,))"
      ]
     },
     "execution_count": 37,
     "metadata": {},
     "output_type": "execute_result"
    }
   ],
   "source": [
    "X_Train.shape, Y_train.shape"
   ]
  },
  {
   "cell_type": "code",
   "execution_count": 38,
   "metadata": {},
   "outputs": [],
   "source": [
    "X_train, X_test, y_train, y_test = train_test_split(X_Train, Y_train,test_size=0.3,random_state=1234) "
   ]
  },
  {
   "cell_type": "markdown",
   "metadata": {},
   "source": [
    "#### Gradient Boosting"
   ]
  },
  {
   "cell_type": "code",
   "execution_count": 39,
   "metadata": {},
   "outputs": [],
   "source": [
    "gradient = GradientBoostingRegressor()"
   ]
  },
  {
   "cell_type": "code",
   "execution_count": 40,
   "metadata": {},
   "outputs": [
    {
     "data": {
      "text/plain": [
       "GradientBoostingRegressor(alpha=0.9, criterion='friedman_mse', init=None,\n",
       "             learning_rate=0.1, loss='ls', max_depth=3, max_features=None,\n",
       "             max_leaf_nodes=None, min_impurity_decrease=0.0,\n",
       "             min_impurity_split=None, min_samples_leaf=1,\n",
       "             min_samples_split=2, min_weight_fraction_leaf=0.0,\n",
       "             n_estimators=100, presort='auto', random_state=None,\n",
       "             subsample=1.0, verbose=0, warm_start=False)"
      ]
     },
     "execution_count": 40,
     "metadata": {},
     "output_type": "execute_result"
    }
   ],
   "source": [
    "gradient.fit(X_train,y_train)"
   ]
  },
  {
   "cell_type": "code",
   "execution_count": 41,
   "metadata": {},
   "outputs": [],
   "source": [
    "predict = gradient.predict(X_test)"
   ]
  },
  {
   "cell_type": "code",
   "execution_count": 42,
   "metadata": {},
   "outputs": [
    {
     "data": {
      "text/plain": [
       "1.026724499935336"
      ]
     },
     "execution_count": 42,
     "metadata": {},
     "output_type": "execute_result"
    }
   ],
   "source": [
    "np.sqrt(mean_squared_error(predict,y_test))"
   ]
  },
  {
   "cell_type": "markdown",
   "metadata": {},
   "source": [
    "#### Using Random forest regression"
   ]
  },
  {
   "cell_type": "code",
   "execution_count": 43,
   "metadata": {},
   "outputs": [],
   "source": [
    "rf = RandomForestRegressor(n_estimators = 200, min_samples_split = 50, verbose = 1, random_state = 42)"
   ]
  },
  {
   "cell_type": "code",
   "execution_count": 44,
   "metadata": {},
   "outputs": [
    {
     "name": "stderr",
     "output_type": "stream",
     "text": [
      "[Parallel(n_jobs=1)]: Done 200 out of 200 | elapsed:  3.9min finished\n"
     ]
    },
    {
     "data": {
      "text/plain": [
       "RandomForestRegressor(bootstrap=True, criterion='mse', max_depth=None,\n",
       "           max_features='auto', max_leaf_nodes=None,\n",
       "           min_impurity_decrease=0.0, min_impurity_split=None,\n",
       "           min_samples_leaf=1, min_samples_split=50,\n",
       "           min_weight_fraction_leaf=0.0, n_estimators=200, n_jobs=1,\n",
       "           oob_score=False, random_state=42, verbose=1, warm_start=False)"
      ]
     },
     "execution_count": 44,
     "metadata": {},
     "output_type": "execute_result"
    }
   ],
   "source": [
    "rf.fit(X_train,y_train)"
   ]
  },
  {
   "cell_type": "code",
   "execution_count": 45,
   "metadata": {},
   "outputs": [
    {
     "name": "stderr",
     "output_type": "stream",
     "text": [
      "[Parallel(n_jobs=1)]: Done 200 out of 200 | elapsed:    5.8s finished\n"
     ]
    }
   ],
   "source": [
    "predict_rf = rf.predict(X_test)"
   ]
  },
  {
   "cell_type": "code",
   "execution_count": 46,
   "metadata": {},
   "outputs": [
    {
     "data": {
      "text/plain": [
       "1.0259364078231061"
      ]
     },
     "execution_count": 46,
     "metadata": {},
     "output_type": "execute_result"
    }
   ],
   "source": [
    "np.sqrt(mean_squared_error(predict_rf,y_test))"
   ]
  },
  {
   "cell_type": "markdown",
   "metadata": {},
   "source": [
    "#### Using linear regression"
   ]
  },
  {
   "cell_type": "code",
   "execution_count": 47,
   "metadata": {},
   "outputs": [],
   "source": [
    "lr = LinearRegression()"
   ]
  },
  {
   "cell_type": "code",
   "execution_count": 48,
   "metadata": {},
   "outputs": [
    {
     "data": {
      "text/plain": [
       "LinearRegression(copy_X=True, fit_intercept=True, n_jobs=1, normalize=False)"
      ]
     },
     "execution_count": 48,
     "metadata": {},
     "output_type": "execute_result"
    }
   ],
   "source": [
    "lr.fit(X_train,y_train)"
   ]
  },
  {
   "cell_type": "code",
   "execution_count": 49,
   "metadata": {},
   "outputs": [],
   "source": [
    "pred_lr = lr.predict(X_test)"
   ]
  },
  {
   "cell_type": "code",
   "execution_count": 50,
   "metadata": {},
   "outputs": [
    {
     "data": {
      "text/plain": [
       "1.0519892976552967"
      ]
     },
     "execution_count": 50,
     "metadata": {},
     "output_type": "execute_result"
    }
   ],
   "source": [
    "np.sqrt(mean_squared_error(pred_lr,y_test))"
   ]
  },
  {
   "cell_type": "code",
   "execution_count": 51,
   "metadata": {},
   "outputs": [],
   "source": [
    "from lightgbm import LGBMRegressor"
   ]
  },
  {
   "cell_type": "code",
   "execution_count": 52,
   "metadata": {},
   "outputs": [],
   "source": [
    "clf =  LGBMRegressor(random_state =1, n_estimators =300, n_jobs = -1,learning_rate=0.20, num_leaves=25,reg_alpha=0.0,reg_lambda=0.0, min_child_samples=3,categorical_feature = [13,15,16,17,18,19,20,26,27])"
   ]
  },
  {
   "cell_type": "code",
   "execution_count": 53,
   "metadata": {},
   "outputs": [
    {
     "name": "stderr",
     "output_type": "stream",
     "text": [
      "C:\\Users\\palva\\Anaconda3.1\\lib\\site-packages\\lightgbm\\basic.py:741: UserWarning: categorical_feature keyword has been found in `params` and will be ignored.\n",
      "Please use categorical_feature argument of the Dataset constructor to pass this parameter.\n",
      "  .format(key))\n"
     ]
    },
    {
     "data": {
      "text/plain": [
       "LGBMRegressor(boosting_type='gbdt',\n",
       "       categorical_feature=[13, 15, 16, 17, 18, 19, 20, 26, 27],\n",
       "       class_weight=None, colsample_bytree=1.0, importance_type='split',\n",
       "       learning_rate=0.2, max_depth=-1, min_child_samples=3,\n",
       "       min_child_weight=0.001, min_split_gain=0.0, n_estimators=300,\n",
       "       n_jobs=-1, num_leaves=25, objective=None, random_state=1,\n",
       "       reg_alpha=0.0, reg_lambda=0.0, silent=True, subsample=1.0,\n",
       "       subsample_for_bin=200000, subsample_freq=0)"
      ]
     },
     "execution_count": 53,
     "metadata": {},
     "output_type": "execute_result"
    }
   ],
   "source": [
    "clf.fit(X_train,y_train)"
   ]
  },
  {
   "cell_type": "code",
   "execution_count": 54,
   "metadata": {},
   "outputs": [],
   "source": [
    "pred_lg = clf.predict(X_test)"
   ]
  },
  {
   "cell_type": "code",
   "execution_count": 55,
   "metadata": {},
   "outputs": [
    {
     "data": {
      "text/plain": [
       "1.0203060118657263"
      ]
     },
     "execution_count": 55,
     "metadata": {},
     "output_type": "execute_result"
    }
   ],
   "source": [
    "np.sqrt(mean_squared_error(pred_lg,y_test))"
   ]
  },
  {
   "cell_type": "code",
   "execution_count": null,
   "metadata": {},
   "outputs": [],
   "source": []
  }
 ],
 "metadata": {
  "kernelspec": {
   "display_name": "Python 3",
   "language": "python",
   "name": "python3"
  },
  "language_info": {
   "codemirror_mode": {
    "name": "ipython",
    "version": 3
   },
   "file_extension": ".py",
   "mimetype": "text/x-python",
   "name": "python",
   "nbconvert_exporter": "python",
   "pygments_lexer": "ipython3",
   "version": "3.6.5"
  }
 },
 "nbformat": 4,
 "nbformat_minor": 2
}
